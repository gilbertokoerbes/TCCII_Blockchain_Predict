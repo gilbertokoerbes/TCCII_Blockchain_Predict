{
 "cells": [
  {
   "cell_type": "markdown",
   "metadata": {
    "editable": true,
    "slideshow": {
     "slide_type": ""
    },
    "tags": []
   },
   "source": [
    "# Projeto de análise de custos em nuvem --- Hyperledger Fabric\n",
    "\n",
    "Este projeto tem como objetivo auxiliar na predição de recursos necessários para executar uma blockchain Hyperledger Fabric --- ou outras blockchains permissionadas privadas com comportamento similar</br>\n",
    "Além dos recursos análisados, com base nos atributos de configuração e transsações por segundo (TPS),   disponibilizamos uma estimativa de custos em computação em nuvem</br>\n",
    "</br>\n",
    "Assim, o projeto é dividido em duas grandes seções: Predição de recursos e Calculadora de Custos em um ambiente Cloud.</br><br>\n",
    "\n",
    "Nas seções, existem blocos que serão demarcados por \" 🔵 \" para sinalizar um bloco de parametrização e variaveis que podem ser alteradas\n",
    "\n"
   ]
  },
  {
   "cell_type": "markdown",
   "metadata": {
    "editable": true,
    "slideshow": {
     "slide_type": "slide"
    },
    "tags": []
   },
   "source": [
    "# Blockchain Predict (predição dos recursos)"
   ]
  },
  {
   "cell_type": "markdown",
   "metadata": {
    "editable": true,
    "slideshow": {
     "slide_type": ""
    },
    "tags": []
   },
   "source": [
    "## Configurações\n",
    "É importante destacar que o modelo é baseado em configurações e entradas do usuário. É recomendado o conhecimento mínimo sobre uma bloackhain hyperldger fabric e alguns testes preliminares para popular alguns campos. </br>\n",
    "Na célula abaixo, a estrutura de dados ```BlockchainParameters```representa a configuração e parametros reais do arquivo de configuração da blockchain.\n",
    " </br>\n",
    "\n",
    "### BlockchainParameters:\n",
    " \n",
    " ```GenesisBlockSize``` : indica o espaço ocupado pelo bloco genese (primeiro bloco ao criar uma nova blockchain). Geralmente carrega pouca informações e na maioria dos casos pode ser irrelevante: <br>\n",
    " Os parametros listados abaixo interferem diretamente no comportamento da blockchain e devem ser análisados conforme necessidade.\n",
    "\n",
    " ```BatchSize```: O BatchSize é composto por dois parametros que são ancoras para garantir os valores máximos de informações dentro de um bloco da blockchain\n",
    " - ```AbsoluteMaxBytes```: Este parametro representa em Bytes qual deve ser o gatilho para o fechamento do bloco, isso é, ao ser atingido o valor de informações, o bloco deve ser fechado e gerado um novo bloco na cadeia.\n",
    " - ```MaxMessageCount```: Este parametro indica a quantidade de mensagens, no caso, limite transações que podem inseridas dentro do bloco\n",
    " ```BatchTimeout```: Quando nenhum dos indicadores acima atingir seu gatilho, o *BatchTimeout* busca garantir o tempo máximo para espera do bloco em aberto.\n",
    "```EndorsementPolicy```: define as políticas da rede para endosso (assinatura de algum *peer*) das transações. O Endosso normalmente é representado por equações lógicas como OR(A,B ), AND(A,B) ou OR(A,B,C). Para incluir nos calculos a quantidades de transações que um peer deve assinar, consideramos a distruibuição das transações de forma uniforme entre os peers dadas as condições configuradas (desconsiderando o comportamento **forçado** do *clients* em submeter somente a um *peer* para endosso). Nos exemplos OR(A,B), AND(A,B) ou OR(A,B,C) as transações requerem endossos de peers, respectivamente, 1/2, 2/2 ou 1/3.\n",
    "<br> \n",
    "<br> \n",
    "\n",
    "### Tamanhos e campos (*BlockHeaders* e *TransactionFields*)\n",
    "Durante a execução das transações na blockchain, os campos e cabeçalhos são preenchidos demandando bytes a serem armazenados. Os campos listados abaixo são resposáveis para posteriormente os calculos de armazenamento. <br><br>\n",
    "Esses campos podem ser dimensionados com base no SmartContract executado com alguns experimentos para estimar o seu tamanho. Reccomendamos que utilize a ferramenta [Hyperledger Caliper](https://www.hyperledger.org/projects/caliper) para compor a análise.\n",
    "Em suma, os campos de ```BlockHeaders``` são campos com valores definidos após o bloco ser encadeado. ```TransactionFields``` por outro lado são campos presentes em cada transação. <br><br>\n",
    "Mais detalhes na [documentação](https://hyperledger-fabric.readthedocs.io/en/release-2.5/ledger/ledger.html) nas seções [BlockHeaders](https://hyperledger-fabric.readthedocs.io/en/release-2.5/_images/ledger.diagram.4.png)  e [TransactionFields](https://hyperledger-fabric.readthedocs.io/en/release-2.5/_images/ledger.diagram.5.png)\n"
   ]
  },
  {
   "cell_type": "code",
   "execution_count": 1,
   "metadata": {},
   "outputs": [],
   "source": [
    "# { 🔵 }\n",
    "CONF = {\n",
    "  \"BlockchainParameters\": {\n",
    "    \"GenesisBlockSize\": 0, \n",
    "    \"BatchSize\": {\n",
    "      \"AbsoluteMaxBytes\": 10485760,  # Bytes\n",
    "      \"MaxMessageCount\": 100000\n",
    "    }, \n",
    "    \"BatchTimeout\": 600, #Seconds\n",
    "  \"EndorsementPolicy\": 1/2,\n",
    "  }, \n",
    "\n",
    "  \"BlockHeaders\": { # Bytes\n",
    "    \"MetadataSize\": 64, \n",
    "    \"HeaderSize\": 128\n",
    "  }, \n",
    "\n",
    "  \"TransactionFields\": {#Bytes\n",
    "    \"R4\": 128, \n",
    "    \"E4\": 512, \n",
    "    \"H4\": 64, \n",
    "    \"P4\": 256, \n",
    "    \"S4\": 256\n",
    "  },\n",
    "  \n",
    "}\n",
    "\n"
   ]
  },
  {
   "cell_type": "code",
   "execution_count": 2,
   "metadata": {
    "editable": true,
    "slideshow": {
     "slide_type": ""
    },
    "tags": []
   },
   "outputs": [],
   "source": [
    "# { 🔵 }\n",
    "CLOUD_PRICING = {\n",
    "    \"Storage\": {\n",
    "      \"Pricing\": 0.045\n",
    "    }, \n",
    "    \"NetworkThroughput\": {\n",
    "      \"Pricing\": 0.01\n",
    "    }, \n",
    "    \"VirtualMachine\": {\n",
    "      \"FilePricing\": \"path\", #null requires insert manual values InstancesTypes\n",
    "       \"InstancesTypes\": [\n",
    "      # E.g:\n",
    "      #   {\"VCPU\": 2,  \"Pricing\": 0.0388},\n",
    "      #   {\"VCPU\": 4,  \"Pricing\": 0.0776},\n",
    "      #   {\"VCPU\": 8,  \"Pricing\": 0.1552},\n",
    "      #   {\"VCPU\": 16,  \"Pricing\": 0.3104},\n",
    "       ]\n",
    "      \n",
    "    }, \n",
    "    \"Additional\": 0\n",
    "  }"
   ]
  },
  {
   "cell_type": "code",
   "execution_count": 3,
   "metadata": {
    "editable": false,
    "slideshow": {
     "slide_type": ""
    },
    "source_hidden": true,
    "tags": [
     "hide-input"
    ]
   },
   "outputs": [],
   "source": [
    "#%matplotlib inline #<< É necessário utilizar se estiver no VSCODE\n",
    "\n",
    "import matplotlib.pyplot as plt\n",
    "from matplotlib.ticker import ScalarFormatter\n",
    "\n",
    "import numpy as np\n",
    "import pandas as pd\n",
    "\n",
    "import pprint"
   ]
  },
  {
   "cell_type": "code",
   "execution_count": 4,
   "metadata": {
    "editable": false,
    "slideshow": {
     "slide_type": ""
    },
    "tags": [
     "hide-input"
    ]
   },
   "outputs": [],
   "source": [
    "#predict.py\n",
    "TRANSACTION_SIZE     =  np.sum(np.array([fields_values for fields_values in CONF['TransactionFields'].values()]))\n",
    "BLOCK_HEADERS_SIZE   =  np.sum(np.array([fields_values for fields_values in CONF['BlockHeaders'].values()]))\n",
    "\n",
    "def calculate_size_total_transacoes(self, total_transactions:int, transation_size:int) -> int:\n",
    "   self.size_total_transacoes = total_transactions * transation_size\n",
    "   if self.size_total_transacoes > self.absolute_max_bytes:\n",
    "      print('Undefined: size_total_transacoes > absolute_max_bytes')\n",
    "      print('size_total_transacoes : ', self.size_total_transacoes)\n",
    "      return -1\n",
    "   return self.size_total_transacoes\n",
    "\n",
    "class StorageDemand:\n",
    "    def __init__(self):\n",
    "        self.total_blocks = 0\n",
    "        self.total_transactions = 0\n",
    "        self.calculated_total_size_blocks = 0\n",
    "        self.batch_type = \"\"\n",
    "        self.period = 0\n",
    "\n",
    "class CostPredict:\n",
    "    def __init__(self):\n",
    "        self.file_pricing                = CLOUD_PRICING['VirtualMachine']['FilePricing']\n",
    "        self.instanc_types               = CLOUD_PRICING['VirtualMachine']['InstancesTypes']\n",
    "        self.storage_pricing             = CLOUD_PRICING['Storage']['Pricing']\n",
    "        self.network_throughput_pricing  = CLOUD_PRICING['NetworkThroughput']['Pricing']\n",
    "        self.additional                  = CLOUD_PRICING['Additional']"
   ]
  },
  {
   "cell_type": "code",
   "execution_count": 5,
   "metadata": {},
   "outputs": [],
   "source": [
    "def logistic_curve(t, P0, K, r, t0):\n",
    "    return P0 + (K - P0) / (1 + np.exp(-r * (t - t0)))"
   ]
  },
  {
   "cell_type": "markdown",
   "metadata": {},
   "source": [
    "### Modelagem da curva de adoção\n",
    "Para está modelagem, as predições são geradas com base no tipo período da variavel ```PREDICT_TYPE``` que assume os valores de: 'DAY' para dias, 'WEEK' para semana, 'MONTH' para mês e YEAR' para anos. \n",
    "<br><br>\n",
    "Há duas formas de inserir comportamentos estimados de transações por segundo no ambiente.\n",
    "1. ARRAY: Inserir valores de TPS diretamento no array\n",
    "2. Função Logística: Ajustar os parametros da função logística para gerar algum comportamento ao longo do período (**deixar o ARRAY vazio para auto seleção*)"
   ]
  },
  {
   "cell_type": "code",
   "execution_count": 6,
   "metadata": {},
   "outputs": [],
   "source": [
    "# 🔵 Required PREDICT_TYPE\n",
    "\n",
    "global PREDICT_TYPE\n",
    "PREDICT_TYPE = 'MONTH' # 🔵 'DAY':'WEEK':'MONTH':'YEAR'"
   ]
  },
  {
   "cell_type": "code",
   "execution_count": 7,
   "metadata": {},
   "outputs": [],
   "source": [
    "# 🔵 Caso array\n",
    "global AVG_RATE_TRANSACTIONS\n",
    "\n",
    "ARRAY = []# 🔵 E.g [50,100,150,200,250,320,370,550,750,1000]\n",
    "AVG_RATE_TRANSACTIONS = np.array(ARRAY)"
   ]
  },
  {
   "cell_type": "code",
   "execution_count": 8,
   "metadata": {},
   "outputs": [],
   "source": [
    "# 🔵 Caso Função Logistica\n",
    "\n",
    "A = 10         # 🔵 Numero de periodos. E.g: para 18 meses => PREDICT_TYPE = 'MONTH' e A = 18 \n",
    "\n",
    "t = np.linspace(0, A - 1, A)\n",
    "\n",
    "# Parâmetros da curva logística\n",
    "P0 = 5         # 🔵 Transações inicial\n",
    "K = 1000       # 🔵 Valor máximo transações estimado\n",
    "r =  0.9       # 🔵 Taxa de crescimento\n",
    "t0 = A / 4     # 🔵 Ponto de inflexão -> Meio\n",
    "\n",
    "# Calcula a população usando a função da curva logística\n",
    "\n",
    "if len(ARRAY) == 0: # Ativar função logistica\n",
    "    AVG_RATE_TRANSACTIONS = logistic_curve(t, P0, K, r, t0)\n",
    "\n"
   ]
  },
  {
   "cell_type": "code",
   "execution_count": 9,
   "metadata": {},
   "outputs": [],
   "source": [
    "# Cod Auxiliar\n",
    "def simple_plot(x,y,line_label=\"\", xlabel=f'Tempo ({PREDICT_TYPE})', ylabel=\"\", title=\"\", v_grid=True, tlabel_style=\"plain\"):\n",
    "    print(f'Ultimo valor \"{line_label}\" => {y[-1]}')\n",
    "    fig, ax = plt.subplots()\n",
    "    ax.plot(x,y,label=line_label)\n",
    "    ax.ticklabel_format(style=tlabel_style)\n",
    "    ax.set_xlabel(xlabel)\n",
    "    ax.set_ylabel(ylabel)\n",
    "    ax.set_title(title)\n",
    "    ax.legend()\n",
    "    ax.grid(v_grid)\n",
    "    return fig, ax"
   ]
  },
  {
   "cell_type": "code",
   "execution_count": 10,
   "metadata": {},
   "outputs": [
    {
     "name": "stdout",
     "output_type": "stream",
     "text": [
      "Ultimo valor \"Transações por segundo\" => 997.142728990078\n"
     ]
    },
    {
     "data": {
      "image/png": "[encoded data removed]",
      "text/plain": [
       "<Figure size 640x480 with 1 Axes>"
      ]
     },
     "metadata": {},
     "output_type": "display_data"
    }
   ],
   "source": [
    "#Plotagem da curva de transações\n",
    "fig, ax = simple_plot(x= t,y= AVG_RATE_TRANSACTIONS, line_label= 'Transações por segundo', ylabel= 'Media de transações por segundo', title= 'Modelo de Crescimento Transações')\n",
    "plt.show()"
   ]
  },
  {
   "cell_type": "markdown",
   "metadata": {},
   "source": [
    "### Demanda de Armazenamento e Transações"
   ]
  },
  {
   "cell_type": "markdown",
   "metadata": {},
   "source": [
    "**TRANSAÇÕES**"
   ]
  },
  {
   "cell_type": "code",
   "execution_count": 11,
   "metadata": {},
   "outputs": [],
   "source": [
    "\n",
    "def expand_transations_by_period(predict_type, rate_transations_per_second):\n",
    "    SECONDS_PER_DAY  = 86400\n",
    "    return {\n",
    "    'DAY': lambda rate_transations_per_second: rate_transations_per_second * SECONDS_PER_DAY,\n",
    "    'WEEK': lambda rate_transations_per_second: rate_transations_per_second * SECONDS_PER_DAY * 7,\n",
    "    'MONTH': lambda rate_transations_per_second: rate_transations_per_second * SECONDS_PER_DAY * 30,\n",
    "    'YEAR': lambda rate_transations_per_second: rate_transations_per_second * SECONDS_PER_DAY * 365\n",
    "    }[predict_type](rate_transations_per_second)\n",
    "\n",
    "total_transactions_by_period = expand_transations_by_period(PREDICT_TYPE, AVG_RATE_TRANSACTIONS)"
   ]
  },
  {
   "cell_type": "code",
   "execution_count": 12,
   "metadata": {},
   "outputs": [],
   "source": [
    "endorsement_transations = total_transactions_by_period * CONF['BlockchainParameters']['EndorsementPolicy']"
   ]
  },
  {
   "cell_type": "markdown",
   "metadata": {},
   "source": [
    "Plotagem da soma do total 'Transações (Commited)' no periodo apresenta uma expansão de transações por **segundo** para o período escolhido. Por exemplo, para um predição de DIA, dado o valor de X transações por segundo, a soma dessas transações equivalem a Y transações total no dia\n",
    "<br>\n",
    "\n",
    "💡 'Transações (Commited)' são aquelas gravadas na blockchain"
   ]
  },
  {
   "cell_type": "code",
   "execution_count": 13,
   "metadata": {},
   "outputs": [
    {
     "name": "stdout",
     "output_type": "stream",
     "text": [
      "Ultimo valor \"Transações (Commited)\" => 2584593953.542282\n"
     ]
    },
    {
     "data": {
      "image/png": "[encoded data removed]",
      "text/plain": [
       "<Figure size 640x480 with 1 Axes>"
      ]
     },
     "metadata": {},
     "output_type": "display_data"
    }
   ],
   "source": [
    "# Plotagem da soma do total transações estimada no periodo\n",
    "fig, ax = simple_plot(x= t, y= total_transactions_by_period, line_label= 'Transações (Commited)', ylabel= 'Total de transações no periodo', title= 'Média do Total de transações  no periodo')\n",
    "plt.show()"
   ]
  },
  {
   "cell_type": "markdown",
   "metadata": {},
   "source": [
    "Plotagem da comparação 'Endorsement Transations' da rede em comparação ao total de transações *Commited* apresentado acima, com base no parametro ***EndorsementPolicy***\n",
    "<br>\n",
    "💡 'Endorsement Transations'  são aquelas que o peer deve pré-assinar para ser submetida na rede\n"
   ]
  },
  {
   "cell_type": "code",
   "execution_count": 14,
   "metadata": {},
   "outputs": [
    {
     "name": "stdout",
     "output_type": "stream",
     "text": [
      "Ultimo valor \"Total Commited Transations\" => 2584593953.542282\n",
      "Ultimo valor \"Total Endorsement Transations\" => 1292296976.771141\n"
     ]
    },
    {
     "data": {
      "image/png": "[encoded data removed]",
      "text/plain": [
       "<Figure size 640x480 with 1 Axes>"
      ]
     },
     "metadata": {},
     "output_type": "display_data"
    }
   ],
   "source": [
    "fig, ax = simple_plot(x= t, y= total_transactions_by_period, line_label='Total Commited Transations', ylabel= 'Total de transações no periodo', title= 'Transações Commited vs Endersement', tlabel_style='sci')\n",
    "ax.plot(t, endorsement_transations, label='Total Endorsement Transations')\n",
    "ax.legend()\n",
    "print(f'Ultimo valor \"Total Endorsement Transations\" => {endorsement_transations[-1]}')\n",
    "\n",
    "plt.show()"
   ]
  },
  {
   "cell_type": "markdown",
   "metadata": {},
   "source": [
    "#### SEÇÃO COM A ESTIMATIVA DE GERAÇÃO DOS BLOCOS:\n",
    "A quantidade de blocos tem impacto na rede, pois a quantidade de blocos multiplicado pelos [tamanhos de cabeçalho](#tamanhos-e-campos-blockheaders-e-transactionfields) será computado também no total de armazenamento.\n",
    "<br>\n",
    "Além disso, sabendo a quantidade de transações dentro de um bloco e o [tamanho de cada transação](#tamanhos-e-campos-blockheaders-e-transactionfields) podemos estimar o tamanho total do bloco, e cumulativamente o tamanho total da blockchain"
   ]
  },
  {
   "cell_type": "code",
   "execution_count": 15,
   "metadata": {},
   "outputs": [],
   "source": [
    "\n",
    "def estimate_blocks(avg_tps, total_transations_period):\n",
    "    total_blocks = None\n",
    "    batch_type  = \"\"\n",
    "    \n",
    "    #Qual o tempo necessário para fechar um bloco para max_message\n",
    "    time_to_batch_messages = CONF['BlockchainParameters']['BatchSize']['MaxMessageCount'] / avg_tps\n",
    "\n",
    "    #Quantas transações são necessárias para fechar um bloco com max_bytes\n",
    "    aggregate_total_transations_if_batch_max_bytes = CONF['BlockchainParameters']['BatchSize']['AbsoluteMaxBytes'] / TRANSACTION_SIZE\n",
    "    time_to_batch_bytes  = aggregate_total_transations_if_batch_max_bytes / avg_tps\n",
    "\n",
    "    total_blocks = None\n",
    "    \n",
    "    if time_to_batch_messages >= CONF['BlockchainParameters']['BatchTimeout']  and \\\n",
    "            time_to_batch_bytes >=  CONF['BlockchainParameters']['BatchTimeout'] :# calcular para encadeamento batchtimeout\n",
    "\n",
    "        \n",
    "        aggregate_total_transations_if_batch_timeout = CONF['BlockchainParameters']['BatchTimeout'] * avg_tps\n",
    "        total_blocks = total_transations_period / aggregate_total_transations_if_batch_timeout\n",
    "        batch_type = \"batch_timeout\"\n",
    "\n",
    "    elif time_to_batch_messages < time_to_batch_bytes: # calcular para encadeamento batch messages\n",
    "        total_blocks = total_transations_period / time_to_batch_messages\n",
    "        batch_type = \"batch_message\"\n",
    "        \n",
    "    \n",
    "    elif time_to_batch_bytes    < time_to_batch_messages:# calcular para encadeamento batch bytes\n",
    "        total_blocks = total_transations_period / time_to_batch_bytes\n",
    "        batch_type = \"batch_bytes\"\n",
    "        \n",
    "    else:\n",
    "        raise Exception\n",
    "        \n",
    "    \n",
    "    return total_blocks, batch_type\n",
    "\n",
    "storage_demand = []\n",
    "for i_period in range(0,A): \n",
    "\n",
    "    avg_t = AVG_RATE_TRANSACTIONS[i_period]\n",
    "    total_transations_by_period = total_transactions_by_period[i_period]\n",
    "\n",
    "    i_storage_demand = StorageDemand() # Salvar no objeto com atributos que serão utilizados posteriormente\n",
    "    i_storage_demand.period                                         = i_period    \n",
    "    i_storage_demand.total_transactions                             = total_transations_by_period\n",
    "    i_storage_demand.total_blocks, i_storage_demand.batch_type      = estimate_blocks(avg_t, total_transations_by_period)\n",
    "    i_storage_demand.calculated_total_size_blocks                   = (i_storage_demand.total_blocks * BLOCK_HEADERS_SIZE) + (i_storage_demand.total_transactions * TRANSACTION_SIZE)\n",
    "    \n",
    "    storage_demand.append(i_storage_demand)\n",
    "    \n"
   ]
  },
  {
   "cell_type": "code",
   "execution_count": 16,
   "metadata": {},
   "outputs": [],
   "source": [
    "i_period           = np.array([s.period for s in storage_demand])\n",
    "cumulative_blocks  = np.cumsum( np.array([s.total_blocks for s in storage_demand]) )"
   ]
  },
  {
   "cell_type": "code",
   "execution_count": null,
   "metadata": {},
   "outputs": [
    {
     "name": "stdout",
     "output_type": "stream",
     "text": [
      "Ultimo valor \"Total de Blocos (cumulativo)\" => 1773832954.6019816\n"
     ]
    }
   ],
   "source": [
    "# Plotagem da soma do toal transações estimada no periodo\n",
    "fig, ax = simple_plot(x= t, y= cumulative_blocks, line_label='Total de Blocos (cumulativo)', ylabel='Total de transações no periodo', title= 'Total de Transações vs Quantidade de Blocos', tlabel_style='sci')\n",
    "ax.plot(t, total_transactions_by_period, label='Soma do Total Transações no período ')\n",
    "ax.legend()\n",
    "plt.show()"
   ]
  },
  {
   "cell_type": "markdown",
   "metadata": {},
   "source": [
    "**ARMAZENAMENTO**\n",
    "\n",
    "Com base nas informações do tamanho dos blocos, podemos estimar a demanda de armazenamento"
   ]
  },
  {
   "cell_type": "code",
   "execution_count": null,
   "metadata": {},
   "outputs": [],
   "source": [
    "BYTE_TO_GIGA =  pow(1024 , 3)\n",
    "cumulative_size_GB  = np.cumsum( np.array([s.calculated_total_size_blocks for s in storage_demand]) /  BYTE_TO_GIGA )\n",
    "\n",
    "BYTE_TO_TERA =  pow(1024 , 4)\n",
    "cumulative_size_TB  = np.cumsum( np.array([s.calculated_total_size_blocks for s in storage_demand]) /  BYTE_TO_TERA )"
   ]
  },
  {
   "cell_type": "code",
   "execution_count": null,
   "metadata": {},
   "outputs": [],
   "source": [
    "# ARMAZENAMENTO REQUERIDA GB / TB\n",
    "fig, ax = simple_plot(x= t, y=cumulative_size_GB, line_label='Armazenamento GB', ylabel='Quantidade de Espaço requerido em GB', title= 'Espaço cumulativo ocupado(GB)', tlabel_style='plain')\n",
    "plt.show()\n",
    "\n",
    "fig, ax = simple_plot(x= t, y=cumulative_size_TB, line_label='Armazenamento TB', ylabel='Quantidade de Espaço requerido em TB', title= 'Espaço cumulativo ocupado(TB)', tlabel_style='plain')\n",
    "plt.show()"
   ]
  },
  {
   "cell_type": "markdown",
   "metadata": {},
   "source": [
    "### Demanda CPU\n",
    "\n",
    "O consumo de CPU é estimado conforme a taxa de transações por segundo.\n",
    "<br>\n",
    "No entando, diferentes elementos da rede com seus diferentes workloads, necessitam processar quantidades e complexida de transações de forma independente.\n",
    "Na arquitetura do Hyperledger Fabric, os elemenetos que compõem a rede das organizações majoriariamente são os peers, mas também podemos incluir um nodo resposável pela ordenação das transações\n",
    "\n"
   ]
  },
  {
   "cell_type": "markdown",
   "metadata": {},
   "source": [
    "### Demanda CPU ~ Ordering Service"
   ]
  },
  {
   "cell_type": "code",
   "execution_count": null,
   "metadata": {},
   "outputs": [],
   "source": [
    "aggregate_total_required_vcpu_osn = np.array([])\n",
    "vCPU_BASE_OSN     =  1\n",
    "vCPU_BASE_TPS_OSN = 150 # 2vcpu = 200\n",
    "\n",
    "ordering_transations = AVG_RATE_TRANSACTIONS\n",
    "\n",
    "for tps in ordering_transations:\n",
    "    target_required_vcpu  = vCPU_BASE_OSN\n",
    "\n",
    "    required_vcpu_current_tps = tps / vCPU_BASE_TPS_OSN\n",
    "\n",
    "    if int(required_vcpu_current_tps) > 1:\n",
    "        target_required_vcpu = vCPU_BASE_OSN + (vCPU_BASE_OSN * int(required_vcpu_current_tps))\n",
    "        \n",
    "    aggregate_total_required_vcpu_osn = np.append(aggregate_total_required_vcpu_osn, target_required_vcpu)"
   ]
  },
  {
   "cell_type": "code",
   "execution_count": null,
   "metadata": {},
   "outputs": [],
   "source": [
    "fig, ax = simple_plot(x= t, y=aggregate_total_required_vcpu_osn, line_label='vCPU', ylabel='Total de vCPU', title= 'Total de CPU requerida', tlabel_style='plain')\n",
    "plt.show()"
   ]
  },
  {
   "cell_type": "code",
   "execution_count": null,
   "metadata": {},
   "outputs": [],
   "source": [
    "aggregate_total_required_vcpu_osn*vCPU_BASE_TPS_OSN"
   ]
  },
  {
   "cell_type": "code",
   "execution_count": null,
   "metadata": {},
   "outputs": [],
   "source": [
    "# Plotagem da soma do toal transações estimada no periodo\n",
    "fig, ax = simple_plot(x= t, y=aggregate_total_required_vcpu_osn*vCPU_BASE_TPS_OSN, line_label='TPS vCPU ', ylabel='', title= 'Capacidade ordenação total vCPU', tlabel_style='plain')\n",
    "ax.plot(t, ordering_transations, label='Transações por Segundo (Ordering)', color='red')\n",
    "plt.legend()\n",
    "plt.show()\n"
   ]
  },
  {
   "cell_type": "markdown",
   "metadata": {},
   "source": [
    "## CPU PEER"
   ]
  },
  {
   "cell_type": "code",
   "execution_count": null,
   "metadata": {},
   "outputs": [],
   "source": [
    "aggregate_total_required_vcpu_peer = np.array([])\n",
    "vCPU_BASE     =  2\n",
    "vCPU_BASE_TPS = 200 # 2vcpu = 200\n",
    "\n",
    "peer_commited_transations = AVG_RATE_TRANSACTIONS\n",
    "peer_endorsement_transations = AVG_RATE_TRANSACTIONS * CONF['BlockchainParameters']['EndorsementPolicy']\n",
    "peer_endorsement_commited_transations = peer_commited_transations + peer_endorsement_transations\n",
    "\n",
    "for tps in peer_endorsement_commited_transations:\n",
    "    target_required_vcpu  = vCPU_BASE\n",
    "\n",
    "    required_vcpu_current_tps = tps / vCPU_BASE_TPS\n",
    "\n",
    "    if int(required_vcpu_current_tps) > 1:\n",
    "        target_required_vcpu = vCPU_BASE + (vCPU_BASE * int(required_vcpu_current_tps))\n",
    "        \n",
    "    aggregate_total_required_vcpu_peer = np.append(aggregate_total_required_vcpu_peer, target_required_vcpu)"
   ]
  },
  {
   "cell_type": "code",
   "execution_count": null,
   "metadata": {},
   "outputs": [],
   "source": [
    "#\n",
    "fig, ax = plt.subplots()\n",
    "ax.plot(t, aggregate_total_required_vcpu_peer, label='')\n",
    "ax.ticklabel_format(style='plain')\n",
    "ax.grid(True)\n",
    "plt.xlabel('Tempo')\n",
    "plt.ylabel('Total de vCPU')\n",
    "plt.title('Total de CPU requerida')\n",
    "plt.legend()\n",
    "plt.show()"
   ]
  },
  {
   "cell_type": "code",
   "execution_count": null,
   "metadata": {},
   "outputs": [],
   "source": [
    "# Plotagem da soma do toal transações estimada no periodo\n",
    "fig, ax = plt.subplots()\n",
    "\n",
    "plt.semilogy(t, peer_endorsement_commited_transations, label='Transações por Segundo (Endorsement + Commited)')\n",
    "plt.plot(t, aggregate_total_required_vcpu_peer, label='vCPU')\n",
    "ax.yaxis.set_major_formatter(ScalarFormatter())\n",
    "ax.grid(True)\n",
    "plt.xlabel('Tempo')\n",
    "plt.ylabel('Total de vCPU')\n",
    "plt.title('Total de CPU requerida por Transações')\n",
    "plt.legend()\n",
    "plt.show()"
   ]
  },
  {
   "cell_type": "markdown",
   "metadata": {},
   "source": [
    "# Cloud Costs"
   ]
  },
  {
   "cell_type": "code",
   "execution_count": null,
   "metadata": {},
   "outputs": [],
   "source": [
    "pprint.pprint(CLOUD_PRICING)"
   ]
  },
  {
   "cell_type": "markdown",
   "metadata": {},
   "source": [
    "### Storage \n",
    "\n",
    "Estimativas criadas a partir da calculadora AWS. \n",
    "É importante ressaltar que cloud providers consideram 730 horas mês,\n",
    " isso significa dizer que uma semana, é em média cobrada 730 * 0,25, o que resulta em 182,5 ao contrário de 7 * 24 = 168\n",
    "\n",
    "A justificativa é porque isso consegue minimizar as divergencias de meses com 28,29,30,31 dias\n",
    "\n",
    "[Ir para](##CPU-PEER)"
   ]
  },
  {
   "cell_type": "code",
   "execution_count": null,
   "metadata": {},
   "outputs": [],
   "source": [
    "def convert_period_month(predict_type): #BASED AWS CALCULATOR\n",
    "    VOLUME_MONTH_HOURS  = 730\n",
    "    return {\n",
    "    'DAY'   : 30 / VOLUME_MONTH_HOURS, #0,04109...\n",
    "    'WEEK'  : ( VOLUME_MONTH_HOURS / 4 ) / VOLUME_MONTH_HOURS, # 0,25\n",
    "    'MONTH' : VOLUME_MONTH_HOURS / VOLUME_MONTH_HOURS, # 1\n",
    "    'YEAR'  : (VOLUME_MONTH_HOURS / VOLUME_MONTH_HOURS) * 12, #12 \n",
    "    }[predict_type]\n",
    "\n",
    "\n",
    "convert_period_pricing_month = convert_period_month(PREDICT_TYPE)\n",
    "print()\n",
    "total_storage_cost = cumulative_size_GB * (CostPredict().storage_pricing  * convert_period_pricing_month)"
   ]
  },
  {
   "cell_type": "code",
   "execution_count": null,
   "metadata": {},
   "outputs": [],
   "source": [
    "# Plotagem da soma do toal transações estimada no periodo\n",
    "print(total_storage_cost[-1])\n",
    "fig, ax = plt.subplots()\n",
    "ax.plot(i_period, total_storage_cost, label='storage_cost')\n",
    "\n",
    "ax.ticklabel_format(style='plain')\n",
    "ax.grid(True)\n",
    "plt.xlabel('Periodo')\n",
    "plt.ylabel('')\n",
    "plt.title('')\n",
    "plt.legend()\n",
    "plt.show()"
   ]
  },
  {
   "cell_type": "code",
   "execution_count": null,
   "metadata": {},
   "outputs": [],
   "source": [
    "# EC2\n",
    "df = pd.read_csv('Amazon EC2 Instance Comparison.csv')\n",
    "df['vCPUs'] = df['vCPUs'].str.replace(r'\\D+', '', regex=True)\n",
    "df['On Demand'] = df['On Demand'].str.replace(r'[^0-9.]', '', regex=True)\n",
    "\n",
    "df['vCPUs'] = pd.to_numeric(df['vCPUs'])\n",
    "df['On Demand'] = pd.to_numeric(df['On Demand'])\n",
    "\n",
    "#instancias = df[(df['vCPUs'] > aggregate_total_required_vcpu_peer)]"
   ]
  },
  {
   "cell_type": "code",
   "execution_count": null,
   "metadata": {},
   "outputs": [],
   "source": [
    "df"
   ]
  },
  {
   "cell_type": "code",
   "execution_count": null,
   "metadata": {},
   "outputs": [],
   "source": [
    "def provisioned_instance_types(required_vcpu):\n",
    "    provisioned_vcpu = np.array([])\n",
    "\n",
    "    # Iterar sobre os elementos do array\n",
    "    for vcpu in required_vcpu:\n",
    "        # Verificar se o valor existe na coluna do DataFrame\n",
    "        if vcpu in df['vCPUs'].values:\n",
    "            # Se existir, adiciona o valor ao novo array\n",
    "            type = df[(df['vCPUs'] == vcpu)].iloc[0].to_dict()\n",
    "            provisioned_vcpu = np.append(provisioned_vcpu, type)\n",
    "        else:\n",
    "            # Se não existir, pega o valor mais próximo na coluna do DataFrame\n",
    "            next_type = df[(df['vCPUs'] > vcpu)].iloc[0].to_dict()\n",
    "            provisioned_vcpu = np.append(provisioned_vcpu, next_type)\n",
    "\n",
    "    return provisioned_vcpu"
   ]
  },
  {
   "cell_type": "code",
   "execution_count": null,
   "metadata": {},
   "outputs": [],
   "source": [
    "provisioned_instance_peer = provisioned_instance_types(aggregate_total_required_vcpu_peer)\n",
    "provisioned_instance_osn = provisioned_instance_types(aggregate_total_required_vcpu_osn)"
   ]
  },
  {
   "cell_type": "code",
   "execution_count": null,
   "metadata": {},
   "outputs": [],
   "source": [
    "fig, ax = plt.subplots()\n",
    "\n",
    "ax.plot(t, aggregate_total_required_vcpu_peer, label='required_vcpu_peer')\n",
    "\n",
    "plot_provisioned_instance_peer = [x['vCPUs'] for x in provisioned_instance_peer]\n",
    "\n",
    "ax.plot(t, plot_provisioned_instance_peer, label='provisioned_vcpu_peer')\n",
    "\n",
    "\n",
    "ax.ticklabel_format(style='plain')\n",
    "ax.grid(True)\n",
    "plt.xlabel('Tempo')\n",
    "plt.ylabel('Total de vCPU')\n",
    "plt.title('Total de CPU Provisionada')\n",
    "plt.legend()\n",
    "plt.show()"
   ]
  },
  {
   "cell_type": "code",
   "execution_count": null,
   "metadata": {},
   "outputs": [],
   "source": [
    "def convert_period_hours(predict_type):\n",
    "    \n",
    "    return {\n",
    "    'DAY': 24,\n",
    "    'WEEK': 730 / 4,\n",
    "    'MONTH': 730, # Providers consideram 730 por mes\n",
    "    'YEAR': 730 * 12\n",
    "    }[predict_type]\n",
    "\n",
    "period_hours = convert_period_hours(PREDICT_TYPE)\n",
    "\n",
    "cost_provisioned_instance_peer =  np.array([x['On Demand'] for x in provisioned_instance_peer])\n",
    "cost_provisioned_instance_osn =  np.array([x['On Demand'] for x in provisioned_instance_osn])\n",
    "\n",
    "\n",
    "computer_cost_period_peer   = cost_provisioned_instance_peer    * period_hours\n",
    "computer_cost_period_osn    = cost_provisioned_instance_osn     * period_hours\n"
   ]
  },
  {
   "cell_type": "code",
   "execution_count": null,
   "metadata": {},
   "outputs": [],
   "source": [
    "fig, ax = plt.subplots()\n",
    "#plt.plot(t, computer_cost_period_osn, label='computer_cost_period_osn')\n",
    "plt.plot(t, computer_cost_period_peer, label='computer_cost_period_peer')\n",
    "plt.plot(t, computer_cost_period_osn, label='computer_cost_period_osn')\n",
    "\n",
    "\n",
    "ax.grid(True)\n",
    "plt.xlabel(f'Tempo  ({PREDICT_TYPE})')\n",
    "plt.ylabel(f'Custo Periodo ({PREDICT_TYPE})')\n",
    "plt.title('')\n",
    "plt.legend()\n",
    "plt.show()"
   ]
  },
  {
   "cell_type": "code",
   "execution_count": null,
   "metadata": {},
   "outputs": [],
   "source": [
    "total_computer_cost_period = computer_cost_period_peer + computer_cost_period_osn"
   ]
  },
  {
   "cell_type": "code",
   "execution_count": null,
   "metadata": {},
   "outputs": [],
   "source": [
    "fig, ax = plt.subplots()\n",
    "#plt.plot(t, computer_cost_period_osn, label='computer_cost_period_osn')\n",
    "plt.plot(t, total_computer_cost_period, label='total_computer_cost_period')\n",
    "\n",
    "\n",
    "\n",
    "ax.grid(True)\n",
    "plt.xlabel(f'Tempo  ({PREDICT_TYPE})')\n",
    "plt.ylabel(f'Custo Periodo ({PREDICT_TYPE})')\n",
    "plt.title('')\n",
    "plt.legend()\n",
    "plt.show()"
   ]
  },
  {
   "cell_type": "markdown",
   "metadata": {},
   "source": [
    "# Network"
   ]
  },
  {
   "cell_type": "markdown",
   "metadata": {},
   "source": [
    "Considera que o peer e o ordering service estão na mesma rede </br>\n",
    "pacotes de ack são desconsiderados Ex.: Code 200"
   ]
  },
  {
   "cell_type": "code",
   "execution_count": null,
   "metadata": {},
   "outputs": [],
   "source": [
    "transaction_size_gb                 = TRANSACTION_SIZE / BYTE_TO_GIGA\n",
    "estimate_transaction_network_cost   = CLOUD_PRICING['NetworkThroughput']['Pricing'] * transaction_size_gb\n",
    "\n",
    "network_tput_cost_clients_to_endorsement_peer   =  endorsement_transations * estimate_transaction_network_cost\n",
    "network_tput_cost_clients_to_ordering_server    =  total_transactions_by_period * estimate_transaction_network_cost\n"
   ]
  },
  {
   "cell_type": "code",
   "execution_count": null,
   "metadata": {},
   "outputs": [],
   "source": [
    "fig, ax = plt.subplots()\n",
    "#plt.plot(t, computer_cost_period_osn, label='computer_cost_period_osn')\n",
    "plt.plot(t, network_tput_cost_clients_to_endorsement_peer, label='network_tput_cost_clients_to_endorsement_peer')\n",
    "plt.plot(t, network_tput_cost_clients_to_ordering_server, label='network_tput_cost_clients_to_ordering_server')\n",
    "\n",
    "\n",
    "ax.grid(True)\n",
    "plt.xlabel(f'Tempo  ({PREDICT_TYPE})')\n",
    "plt.ylabel(f'Custo Periodo ({PREDICT_TYPE})')\n",
    "plt.title('')\n",
    "plt.legend()\n",
    "plt.show()"
   ]
  },
  {
   "cell_type": "code",
   "execution_count": null,
   "metadata": {},
   "outputs": [],
   "source": [
    "total_network_throuput_cost = network_tput_cost_clients_to_ordering_server + network_tput_cost_clients_to_endorsement_peer\n"
   ]
  },
  {
   "cell_type": "code",
   "execution_count": null,
   "metadata": {},
   "outputs": [],
   "source": [
    "fig, ax = plt.subplots()\n",
    "#plt.plot(t, computer_cost_period_osn, label='computer_cost_period_osn')\n",
    "plt.plot(t, total_network_throuput_cost, label='total_network_throuput_cost')\n",
    "\n",
    "ax.grid(True)\n",
    "plt.xlabel(f'Tempo  ({PREDICT_TYPE})')\n",
    "plt.ylabel(f'Custo Periodo ({PREDICT_TYPE})')\n",
    "plt.title('')\n",
    "plt.legend()\n",
    "plt.show()\n"
   ]
  },
  {
   "cell_type": "markdown",
   "metadata": {},
   "source": [
    "# CUSTOS TOTAL"
   ]
  },
  {
   "cell_type": "code",
   "execution_count": null,
   "metadata": {},
   "outputs": [],
   "source": [
    "fig, ax = plt.subplots()\n",
    "#plt.plot(t, computer_cost_period_osn, label='computer_cost_period_osn')\n",
    "plt.plot(t, total_computer_cost_period, label='total_computer_cost_period')\n",
    "plt.plot(t, total_network_throuput_cost, label='total_network_throuput_cost')\n",
    "plt.plot(t, total_storage_cost, label='total_storage_cost')\n",
    "\n",
    "\n",
    "ax.grid(True)\n",
    "plt.xlabel(f'Tempo  ({PREDICT_TYPE})')\n",
    "plt.ylabel(f'Custo Periodo ({PREDICT_TYPE})')\n",
    "plt.title('')\n",
    "plt.legend()\n",
    "plt.show()"
   ]
  },
  {
   "cell_type": "code",
   "execution_count": null,
   "metadata": {},
   "outputs": [],
   "source": [
    "total_cost = total_computer_cost_period + total_network_throuput_cost + total_storage_cost"
   ]
  },
  {
   "cell_type": "code",
   "execution_count": null,
   "metadata": {},
   "outputs": [],
   "source": [
    "total_cost[-1]"
   ]
  },
  {
   "cell_type": "code",
   "execution_count": null,
   "metadata": {},
   "outputs": [],
   "source": [
    "fig, ax = plt.subplots()\n",
    "#plt.plot(t, computer_cost_period_osn, label='computer_cost_period_osn')\n",
    "plt.plot(t, total_cost, label='total_cost')\n",
    "\n",
    "\n",
    "\n",
    "ax.grid(True)\n",
    "plt.xlabel(f'Tempo  ({PREDICT_TYPE})')\n",
    "plt.ylabel(f'Custo Periodo ({PREDICT_TYPE})')\n",
    "plt.title('')\n",
    "plt.legend()\n",
    "plt.show()"
   ]
  },
  {
   "cell_type": "markdown",
   "metadata": {},
   "source": [
    "# ANOTAÇÕES "
   ]
  },
  {
   "cell_type": "code",
   "execution_count": null,
   "metadata": {},
   "outputs": [],
   "source": [
    "# Anotate\n",
    "import matplotlib.pyplot as plt\n",
    "x = [0.15, 0.3, 0.45, 0.6, 0.75]\n",
    "y = [2.56422, 3.77284, 3.52623, 3.51468, 3.02199]\n",
    "n = [58, 651, 393, 203, 123]\n",
    "\n",
    "fig, ax = plt.subplots()\n",
    "ax.scatter(x, y)\n",
    "\n",
    "for i, txt in enumerate(n):\n",
    "    ax.annotate(txt, (x[i], y[i]))"
   ]
  },
  {
   "cell_type": "code",
   "execution_count": null,
   "metadata": {},
   "outputs": [],
   "source": [
    "x = np.arange(1,10)\n",
    "y = x *2 \n",
    "\n",
    "fig, (ax1, ax2) = plt.subplots(1, 2, figsize=(12, 4))\n",
    "#plt.plot(t, computer_cost_period_osn, label='computer_cost_period_osn')\n",
    "ax1.plot(x,y)\n",
    "\n",
    "y = x *4 \n",
    "ax2.plot(x,y)\n",
    "\n",
    "plt.show()\n"
   ]
  },
  {
   "cell_type": "markdown",
   "metadata": {
    "editable": true,
    "slideshow": {
     "slide_type": ""
    },
    "tags": []
   },
   "source": [
    "### ToDo\n",
    "\n",
    "<input type=\"checkbox\" disabled />     Incluir verificação  não houver modelo com quantiadade de cpus suficiene ex.: Azure com até 72vcpu <br>\n",
    "<input type=\"checkbox\" disabled />     Tabelas para visualização dos dados do grafico <br>\n",
    "<input type=\"checkbox\" disabled />     Graficos de barra<br>\n",
    "<input type=\"checkbox\" disabled checked />     Verificar todas as metricas de calculo. Ex.: Storage /Mes. <br> \n",
    "<input type=\"checkbox\" disabled checked />Network ok pois é por GB independente\n",
    "\n",
    "### Links de plots\n",
    "https://github.com/norvig/pytudes\n",
    "\n",
    "\n",
    "Calculadora otimizada vs algo generico"
   ]
  }
 ],
 "metadata": {
  "kernelspec": {
   "display_name": "Python 3 (ipykernel)",
   "language": "python",
   "name": "python3"
  },
  "language_info": {
   "codemirror_mode": {
    "name": "ipython",
    "version": 3
   },
   "file_extension": ".py",
   "mimetype": "text/x-python",
   "name": "python",
   "nbconvert_exporter": "python",
   "pygments_lexer": "ipython3",
   "version": "3.11.6"
  }
 },
 "nbformat": 4,
 "nbformat_minor": 4
}
